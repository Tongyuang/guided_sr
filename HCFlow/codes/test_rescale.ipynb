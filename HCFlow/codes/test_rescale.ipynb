{
 "cells": [
  {
   "cell_type": "markdown",
   "metadata": {},
   "source": [
    "# Test Rescaling for HCFlow"
   ]
  },
  {
   "cell_type": "code",
   "execution_count": 8,
   "metadata": {},
   "outputs": [],
   "source": [
    "# import libraries\n",
    "from models import create_model\n",
    "import torch\n",
    "import options.options as option\n",
    "import data.util as util"
   ]
  },
  {
   "cell_type": "code",
   "execution_count": 4,
   "metadata": {},
   "outputs": [
    {
     "name": "stdout",
     "output_type": "stream",
     "text": [
      "exporting CUDA_VISIBLE_DEVICES=0\n",
      "OrderedDict([('name', 'example'), ('mode', 'GT'), ('dataroot_GT', '../datasets/Farm/HR')])\n",
      "shapes: [[-1, 12, 80, 80], [-1, 12, 80, 80], [-1, 12, 80, 80], [-1, 12, 80, 80], [-1, 12, 80, 80], [-1, 12, 80, 80], [-1, 12, 80, 80], [-1, 12, 80, 80], [-1, 12, 80, 80], [-1, 6, 80, 80], [-1, 24, 40, 40], [-1, 24, 40, 40], [-1, 24, 40, 40], [-1, 24, 40, 40], [-1, 24, 40, 40], [-1, 24, 40, 40], [-1, 24, 40, 40], [-1, 24, 40, 40], [-1, 24, 40, 40], [-1, 3, 40, 40]]\n"
     ]
    }
   ],
   "source": [
    "opt_dir = '/data0/yuang/HCFlow/codes/options/test/test_Rescaling_DF2K_4X_HCFlow.yml'\n",
    "opt = option.parse(opt_dir, is_train=False)\n",
    "opt = option.dict_to_nonedict(opt)\n",
    "\n",
    "model = create_model(opt)\n",
    "# create a model"
   ]
  },
  {
   "cell_type": "code",
   "execution_count": 11,
   "metadata": {},
   "outputs": [],
   "source": [
    "# a simple dataloader to load a single HD image\n",
    "def get_GT_image(img_path):\n",
    "    image_GT = util.read_img(None,img_path,None)\n",
    "    return image_GT"
   ]
  },
  {
   "cell_type": "code",
   "execution_count": 12,
   "metadata": {},
   "outputs": [],
   "source": [
    "IMAGE_PATH = '/data0/yuang/dataset/VSPW/filtered/1005_XVAsMTo04Js/origin/00000018.jpg'\n",
    "image_GT = get_GT_image(IMAGE_PATH)"
   ]
  },
  {
   "cell_type": "code",
   "execution_count": 13,
   "metadata": {},
   "outputs": [
    {
     "data": {
      "text/plain": [
       "array([[[0.5803922 , 0.43137255, 0.3372549 ],\n",
       "        [0.5803922 , 0.43137255, 0.3372549 ],\n",
       "        [0.5803922 , 0.43137255, 0.3372549 ],\n",
       "        ...,\n",
       "        [0.627451  , 0.47843137, 0.34509805],\n",
       "        [0.627451  , 0.47843137, 0.34509805],\n",
       "        [0.627451  , 0.47843137, 0.34509805]],\n",
       "\n",
       "       [[0.5803922 , 0.43137255, 0.3372549 ],\n",
       "        [0.5803922 , 0.43137255, 0.3372549 ],\n",
       "        [0.5803922 , 0.43137255, 0.3372549 ],\n",
       "        ...,\n",
       "        [0.627451  , 0.47843137, 0.34509805],\n",
       "        [0.627451  , 0.47843137, 0.34509805],\n",
       "        [0.627451  , 0.47843137, 0.34509805]],\n",
       "\n",
       "       [[0.5803922 , 0.43137255, 0.3372549 ],\n",
       "        [0.5803922 , 0.43137255, 0.3372549 ],\n",
       "        [0.5803922 , 0.43137255, 0.3372549 ],\n",
       "        ...,\n",
       "        [0.627451  , 0.47843137, 0.34509805],\n",
       "        [0.627451  , 0.47843137, 0.34509805],\n",
       "        [0.627451  , 0.47843137, 0.34509805]],\n",
       "\n",
       "       ...,\n",
       "\n",
       "       [[0.23529412, 0.32941177, 0.44705883],\n",
       "        [0.23529412, 0.32941177, 0.44705883],\n",
       "        [0.23529412, 0.32941177, 0.44705883],\n",
       "        ...,\n",
       "        [0.24705882, 0.3372549 , 0.4627451 ],\n",
       "        [0.24313726, 0.33333334, 0.45882353],\n",
       "        [0.24313726, 0.33333334, 0.45882353]],\n",
       "\n",
       "       [[0.22745098, 0.32156864, 0.4392157 ],\n",
       "        [0.22745098, 0.32156864, 0.4392157 ],\n",
       "        [0.22745098, 0.32156864, 0.4392157 ],\n",
       "        ...,\n",
       "        [0.24313726, 0.33333334, 0.45882353],\n",
       "        [0.23921569, 0.32941177, 0.45490196],\n",
       "        [0.23921569, 0.32941177, 0.45490196]],\n",
       "\n",
       "       [[0.22352941, 0.31764707, 0.43529412],\n",
       "        [0.22352941, 0.31764707, 0.43529412],\n",
       "        [0.22352941, 0.31764707, 0.43529412],\n",
       "        ...,\n",
       "        [0.24313726, 0.33333334, 0.45882353],\n",
       "        [0.23921569, 0.32941177, 0.45490196],\n",
       "        [0.23921569, 0.32941177, 0.45490196]]], dtype=float32)"
      ]
     },
     "execution_count": 13,
     "metadata": {},
     "output_type": "execute_result"
    }
   ],
   "source": []
  },
  {
   "cell_type": "code",
   "execution_count": null,
   "metadata": {},
   "outputs": [],
   "source": [
    "#     def get_encode_z(self, lq, hr, epses=None, add_gt_noise=True, y_label=None):\n",
    "        # self.netG.eval()\n",
    "        # with torch.no_grad():\n",
    "        #     z, _, _ = self.netG(hr=hr, lr=lq, reverse=False, epses=epses, add_gt_noise=add_gt_noise, y_label=y_label)\n",
    "        # self.netG.train()\n",
    "        # return z\n",
    "\n",
    "model.get_encode_z()"
   ]
  },
  {
   "cell_type": "code",
   "execution_count": null,
   "metadata": {},
   "outputs": [],
   "source": []
  }
 ],
 "metadata": {
  "kernelspec": {
   "display_name": "moe_sr",
   "language": "python",
   "name": "python3"
  },
  "language_info": {
   "codemirror_mode": {
    "name": "ipython",
    "version": 3
   },
   "file_extension": ".py",
   "mimetype": "text/x-python",
   "name": "python",
   "nbconvert_exporter": "python",
   "pygments_lexer": "ipython3",
   "version": "3.9.18"
  }
 },
 "nbformat": 4,
 "nbformat_minor": 2
}
